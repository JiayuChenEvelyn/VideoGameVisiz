{
 "cells": [
  {
   "cell_type": "markdown",
   "metadata": {},
   "source": [
    "### Model building and train / eval"
   ]
  },
  {
   "cell_type": "code",
   "execution_count": 1,
   "metadata": {},
   "outputs": [],
   "source": [
    "import numpy as np\n",
    "import pandas as pd\n",
    "\n",
    "\n",
    "from implicit.als import AlternatingLeastSquares\n",
    "from implicit.evaluation import AUC_at_k, mean_average_precision_at_k,ndcg_at_k,precision_at_k,ranking_metrics_at_k\n",
    "from implicit.evaluation import train_test_split\n",
    "\n",
    "import scipy.sparse as sparse\n",
    "\n"
   ]
  },
  {
   "cell_type": "code",
   "execution_count": 3,
   "metadata": {},
   "outputs": [
    {
     "name": "stdout",
     "output_type": "stream",
     "text": [
      "0.2\n"
     ]
    },
    {
     "name": "stderr",
     "output_type": "stream",
     "text": [
      "e:\\Python\\Anaconda3\\lib\\site-packages\\implicit\\utils.py:29: UserWarning: OpenBLAS detected. Its highly recommend to set the environment variable 'export OPENBLAS_NUM_THREADS=1' to disable its internal multithreading\n",
      "  \"OpenBLAS detected. Its highly recommend to set the environment variable \"\n"
     ]
    },
    {
     "data": {
      "application/json": {
       "ascii": false,
       "bar_format": null,
       "colour": null,
       "elapsed": 0.015998125076293945,
       "initial": 0,
       "n": 0,
       "ncols": null,
       "nrows": null,
       "postfix": null,
       "prefix": "",
       "rate": null,
       "total": 5,
       "unit": "it",
       "unit_divisor": 1000,
       "unit_scale": false
      },
      "application/vnd.jupyter.widget-view+json": {
       "model_id": "2f2edd3305b24a82b2c4004501a0bad2",
       "version_major": 2,
       "version_minor": 0
      },
      "text/plain": [
       "  0%|          | 0/5 [00:00<?, ?it/s]"
      ]
     },
     "metadata": {},
     "output_type": "display_data"
    },
    {
     "name": "stdout",
     "output_type": "stream",
     "text": [
      "0.4\n"
     ]
    },
    {
     "data": {
      "application/json": {
       "ascii": false,
       "bar_format": null,
       "colour": null,
       "elapsed": 0.007999181747436523,
       "initial": 0,
       "n": 0,
       "ncols": null,
       "nrows": null,
       "postfix": null,
       "prefix": "",
       "rate": null,
       "total": 5,
       "unit": "it",
       "unit_divisor": 1000,
       "unit_scale": false
      },
      "application/vnd.jupyter.widget-view+json": {
       "model_id": "e633313d87014495b1f810be40921574",
       "version_major": 2,
       "version_minor": 0
      },
      "text/plain": [
       "  0%|          | 0/5 [00:00<?, ?it/s]"
      ]
     },
     "metadata": {},
     "output_type": "display_data"
    },
    {
     "name": "stdout",
     "output_type": "stream",
     "text": [
      "0.6\n"
     ]
    },
    {
     "data": {
      "application/json": {
       "ascii": false,
       "bar_format": null,
       "colour": null,
       "elapsed": 0.00626063346862793,
       "initial": 0,
       "n": 0,
       "ncols": null,
       "nrows": null,
       "postfix": null,
       "prefix": "",
       "rate": null,
       "total": 5,
       "unit": "it",
       "unit_divisor": 1000,
       "unit_scale": false
      },
      "application/vnd.jupyter.widget-view+json": {
       "model_id": "98ccb76a81564249ad591f908905f218",
       "version_major": 2,
       "version_minor": 0
      },
      "text/plain": [
       "  0%|          | 0/5 [00:00<?, ?it/s]"
      ]
     },
     "metadata": {},
     "output_type": "display_data"
    },
    {
     "name": "stdout",
     "output_type": "stream",
     "text": [
      "0.8\n"
     ]
    },
    {
     "data": {
      "application/json": {
       "ascii": false,
       "bar_format": null,
       "colour": null,
       "elapsed": 0.003999948501586914,
       "initial": 0,
       "n": 0,
       "ncols": null,
       "nrows": null,
       "postfix": null,
       "prefix": "",
       "rate": null,
       "total": 5,
       "unit": "it",
       "unit_divisor": 1000,
       "unit_scale": false
      },
      "application/vnd.jupyter.widget-view+json": {
       "model_id": "71a29c3194ce463f998c5232355b66f4",
       "version_major": 2,
       "version_minor": 0
      },
      "text/plain": [
       "  0%|          | 0/5 [00:00<?, ?it/s]"
      ]
     },
     "metadata": {},
     "output_type": "display_data"
    },
    {
     "name": "stdout",
     "output_type": "stream",
     "text": [
      "1\n"
     ]
    },
    {
     "data": {
      "application/json": {
       "ascii": false,
       "bar_format": null,
       "colour": null,
       "elapsed": 0.011989355087280273,
       "initial": 0,
       "n": 0,
       "ncols": null,
       "nrows": null,
       "postfix": null,
       "prefix": "",
       "rate": null,
       "total": 5,
       "unit": "it",
       "unit_divisor": 1000,
       "unit_scale": false
      },
      "application/vnd.jupyter.widget-view+json": {
       "model_id": "93070a4ce51b4179941826fa7191b4dd",
       "version_major": 2,
       "version_minor": 0
      },
      "text/plain": [
       "  0%|          | 0/5 [00:00<?, ?it/s]"
      ]
     },
     "metadata": {},
     "output_type": "display_data"
    },
    {
     "name": "stdout",
     "output_type": "stream",
     "text": [
      "find new game, retrain model\n"
     ]
    },
    {
     "data": {
      "application/json": {
       "ascii": false,
       "bar_format": null,
       "colour": null,
       "elapsed": 0.007999181747436523,
       "initial": 0,
       "n": 0,
       "ncols": null,
       "nrows": null,
       "postfix": null,
       "prefix": "",
       "rate": null,
       "total": 20,
       "unit": "it",
       "unit_divisor": 1000,
       "unit_scale": false
      },
      "application/vnd.jupyter.widget-view+json": {
       "model_id": "8eee60c631bf4df7853fd66f727009f1",
       "version_major": 2,
       "version_minor": 0
      },
      "text/plain": [
       "  0%|          | 0/20 [00:00<?, ?it/s]"
      ]
     },
     "metadata": {},
     "output_type": "display_data"
    },
    {
     "name": "stdout",
     "output_type": "stream",
     "text": [
      "save successfully!\n"
     ]
    },
    {
     "data": {
      "text/plain": [
       "['Euro Truck Simulator 2',\n",
       " 'F.E.A.R. 2 Project Origin',\n",
       " 'Half-Life 2 Deathmatch',\n",
       " 'Half-Life 2 Lost Coast',\n",
       " 'F.E.A.R. 3',\n",
       " 'Train Simulator',\n",
       " 'Call of Duty Modern Warfare 3',\n",
       " 'The Lord of the Rings War in the North',\n",
       " 'BattleBlock Theater',\n",
       " 'Scribblenauts Unlimited']"
      ]
     },
     "execution_count": 3,
     "metadata": {},
     "output_type": "execute_result"
    }
   ],
   "source": [
    "class QionghHaRecommender():\n",
    "    __user_intl, __item_intl = 'user_internal', 'item_internal',\n",
    "    __impl_intl = 'implicit_measure'\n",
    "    \n",
    "    def __init__(self, if_load_old = True):\n",
    "        self.ALS_model = None\n",
    "        if if_load_old:\n",
    "            self.raw_data = pd.read_csv('steam_users_new.csv')\n",
    "        self.lookup_items = None\n",
    "        self.lookup_users = None\n",
    "        self.data = None\n",
    "    \n",
    "    def create_model(self, factors = 20, regularization = 0.1,iterations = 20,alpha=1.5,random_state=42,show_loss=False):\n",
    "\n",
    "        self.ALS_model = AlternatingLeastSquares(\n",
    "                                        factors=factors,\n",
    "                                        regularization=regularization,\n",
    "                                        alpha =alpha,\n",
    "                                        iterations=iterations,\n",
    "                                        calculate_training_loss=show_loss,\n",
    "                                        random_state=random_state)\n",
    "        \n",
    "        \n",
    "    def load_data(self, data_path):\n",
    "        \n",
    "        df_data = pd.read_csv(data_path)\n",
    "        \n",
    "        self.raw_data = df_data.copy()\n",
    "        \n",
    "        col_user = df_data.columns[0]  # Name of column 'user'.\n",
    "        col_item = df_data.columns[1]  # Name of column 'item'.\n",
    "        col_impl = df_data.columns[6]  # Name of column 'implicit' measure.\n",
    "\n",
    "        # Retrieve internal names for data columns.\n",
    "        col_user_intl = self.__user_intl  # Internal name for 'user'.\n",
    "        col_item_intl = self.__item_intl  # Internal name for 'item'.\n",
    "        col_impl_intl = self.__impl_intl  # Internal name for 'implicit measure'.\n",
    "\n",
    "        # Convert 'user' and 'item' into numerical ID.\n",
    "        df_data[col_user_intl] = df_data[col_user].astype('category').cat.codes\n",
    "        df_data[col_item_intl] = df_data[col_item].astype('category').cat.codes\n",
    "\n",
    "        # Create lookup tables for 'user_id - user' and 'item_id - item'.\n",
    "        lookup_user = df_data[[col_user_intl, col_user]].drop_duplicates()\n",
    "        lookup_user[col_user_intl] = lookup_user[col_user_intl].astype(str)\n",
    "        lookup_user[col_user] = lookup_user[col_user].astype(str)\n",
    "        lookup_game = df_data[[col_item_intl, col_item]].drop_duplicates()\n",
    "        lookup_game[col_item_intl] = lookup_game[col_item_intl].astype(str)\n",
    "\n",
    "\n",
    "        df_data.rename(columns={col_impl: col_impl_intl}, inplace=True)\n",
    "        df_data = df_data[[col_user_intl, col_item_intl, col_impl_intl]]\n",
    "\n",
    "        self.data = df_data\n",
    "        \n",
    "        self.lookup_users = lookup_user\n",
    "\n",
    "        self.lookup_items = lookup_game\n",
    "        \n",
    "        self.lookup_users.to_csv('lookup_users.csv',index=False)\n",
    "        self.lookup_items.to_csv('lookup_items.csv',index=False)\n",
    "        \n",
    "        self.__user_o = col_user\n",
    "        self.__item_o = col_item\n",
    "        self.__impl_o = col_impl\n",
    "        \n",
    "    def train_model(self):\n",
    "\n",
    "        if self.data is not None and self.ALS_model is not None:\n",
    "\n",
    "            df_data = self.data\n",
    "            data = df_data.implicit_measure.astype(float)\n",
    "            row = df_data.user_internal\n",
    "            \n",
    "            col = df_data.item_internal\n",
    "            # Create sparse matrices: item-user and user-item.\n",
    "            sparse_user_item = sparse.csr_matrix((data.astype(float),(row,col)))\n",
    "\n",
    "            # sparse_item_user = sparse.csr_matrix((data.astype(float),(col,row)))\n",
    "                       \n",
    "            # Initialize the als model and fit it using the sparse item-user matrix\n",
    "            model = self.ALS_model\n",
    "\n",
    "            # Fit data to the model\n",
    "            model.fit(sparse_user_item)\n",
    "\n",
    "            # Assign results to class variables.\n",
    "            self.ALS_model = model\n",
    "            self.sparse_user_item = sparse_user_item\n",
    "        else:\n",
    "            print('Erro: no data source or Model!')\n",
    "    \n",
    "    \n",
    "    def eval(self,train_percentage=0.8,random_state=42,K=1,show_pro=False):\n",
    "        \n",
    "        train_ds, test_ds = train_test_split(self.sparse_user_item, train_percentage=train_percentage, random_state = random_state)\n",
    "        userids = self.sparse_user_item.shape[0]\n",
    "        \n",
    "        model = self.ALS_model\n",
    "        test_ids = np.arange(userids)\n",
    "        \n",
    "        p = precision_at_k(model, train_ds, test_ds[test_ids], K=K, show_progress=show_pro,num_threads=1)\n",
    "        AUC = AUC_at_k(model, train_ds, test_ds[test_ids], K=K, show_progress=show_pro,num_threads=1)\n",
    "        MAP = mean_average_precision_at_k(model, train_ds, test_ds[test_ids], K=K, show_progress=show_pro,num_threads=1)\n",
    "        ndcg = ndcg_at_k(model, train_ds, test_ds[test_ids], K=K, show_progress=show_pro,num_threads=1)\n",
    "        \n",
    "        # print(f'P@K:{p}')\n",
    "        # print(f'AUC_at_k:{AUC}')\n",
    "        # print(f'MAP@K:{MAP}')\n",
    "        # print(f'ndcg@K:{ndcg}')\n",
    "        # print('finish one step')\n",
    "        return p, AUC, MAP, ndcg\n",
    "\n",
    "\n",
    "    def recommend_new_user(self, uid, game_list, hours, score, top_k):\n",
    "        \n",
    "        # new df\n",
    "        new_df = pd.DataFrame({'user_id': [uid]*len(game_list),\n",
    "                                'game_name': game_list,\n",
    "                                'buy': [1]*len(game_list),\n",
    "                                'play': [1]*len(game_list),\n",
    "                                'hours': hours,\n",
    "                                'score': score,\n",
    "                                'implicit': [1]*len(game_list)})\n",
    "        \n",
    "        # save df as history\n",
    "        new_df['implicit'] = new_df['buy'] + new_df['hours'].apply(lambda x: min((x-0.3),4)/10) + new_df['score'].apply(lambda x: (x-5)/20)\n",
    "        new_df['implicit'] = new_df['implicit'].round(2)\n",
    "            \n",
    "        self.raw_data = self.raw_data.append(new_df, ignore_index=True)\n",
    "        \n",
    "        self.raw_data.to_csv('steam_users_new.csv', index=False)\n",
    "        \n",
    "        # get model\n",
    "        if self.ALS_model is None:\n",
    "           self.load_model()\n",
    "        \n",
    "\n",
    "        \n",
    "        # read\n",
    "        if self.lookup_users is None:\n",
    "            lookup_users = pd.read_csv('lookup_users.csv',dtype={'user_internal': str})\n",
    "        else:\n",
    "            lookup_users = self.lookup_users\n",
    "        if self.lookup_items is None:\n",
    "            lookup_items = pd.read_csv('lookup_items.csv',dtype={'item_internal': str})\n",
    "        else:\n",
    "            lookup_items = self.lookup_items\n",
    "            \n",
    "\n",
    "        \n",
    "        if len(lookup_users[lookup_users['user_id']==uid]) != 0:\n",
    "            inter_uid = lookup_users[lookup_users['user_id']==uid]['user_internal'].astype(int).values[0]\n",
    "        else:\n",
    "            inter_uid = lookup_users['user_internal'].astype(int).max()+1\n",
    "            inter_uid_df = pd.DataFrame({'user_internal':[f'{inter_uid}'],'user_id': [uid],})\n",
    "            lookup_users = lookup_users.append(inter_uid_df, ignore_index=True)\n",
    "            lookup_users.to_csv('lookup_users.csv',index=False)\n",
    "        \n",
    "        # create new sparse matrix\n",
    "        int_item_list = []\n",
    "        new_item_list = []\n",
    "        int_value_list = []\n",
    "        \n",
    "        for game_id in range(len(game_list)):\n",
    "            item_id = lookup_items[lookup_items['game_name']==game_list[game_id]]['item_internal'].astype(int)\n",
    "            if len(item_id) != 0:\n",
    "                int_item_list.append(item_id.values[0])\n",
    "                int_value_list.append(new_df['implicit'][game_id])   \n",
    "            else:\n",
    "                new_item_id = lookup_items['item_internal'].astype(int).max() + 1\n",
    "                new_item_list.append(new_item_id)\n",
    "                int_item_list.append(new_item_id)\n",
    "                int_value_list.append(new_df['implicit'][game_id])\n",
    "                lookup_items = lookup_items.append(pd.DataFrame({'item_internal':[f'{new_item_id}' \\\n",
    "                    ],'game_name': [game_list[game_id]],}), ignore_index=True)\n",
    "        \n",
    "        max_row = len(lookup_users)\n",
    "        max_col = len(lookup_items)\n",
    "        \n",
    "        # retrain model\n",
    "        df_data = pd.DataFrame({\n",
    "                self.__user_intl:[inter_uid]*len(int_item_list),\n",
    "                self.__item_intl:int_item_list,\n",
    "                self.__impl_intl:int_value_list\n",
    "            })\n",
    "        # drop df_data where df_data.item_internal not in new_item_list\n",
    "\n",
    "        df_data_retrain_user = df_data[~df_data[self.__item_intl].isin(new_item_list)]\n",
    "        # print(df_data_retrain_user)\n",
    "        \n",
    "        retrain = True\n",
    "        if len(new_item_list)!= 0 or retrain:\n",
    "            print('find new game, retrain model')\n",
    "            self.load_data('steam_users_new.csv')\n",
    "            self.create_model(factors = 40,regularization = 0.1,iterations = 20, alpha=5)\n",
    "            self.train_model()\n",
    "            # model.eval(K=10)\n",
    "            lookup_users = self.lookup_users\n",
    "            lookup_items = self.lookup_items \n",
    "            model = self.ALS_model\n",
    "            inter_uid = lookup_users[lookup_users['user_id']==uid]['user_internal'].astype(int).values[0]\n",
    "            ids, _ = model.recommend([inter_uid], self.sparse_user_item[inter_uid], N=top_k, filter_already_liked_items=True)\n",
    "        \n",
    "        else:\n",
    "            print('no new game, update model')\n",
    "            data = df_data_retrain_user.implicit_measure.astype(float)\n",
    "            row = df_data_retrain_user.user_internal\n",
    "            col = df_data_retrain_user.item_internal\n",
    "            # Create sparse matrices: item-user and user-item.\n",
    "            sparse_user_item = sparse.csr_matrix((data.astype(float),(row,col)),shape=(max_row,max_col-len(new_item_list)))\n",
    "            model = self.ALS_model\n",
    "            model.partial_fit_users([inter_uid],sparse_user_item[inter_uid])\n",
    "            self.ALS_model = model\n",
    "            \n",
    "            ids, _ = model.recommend([inter_uid], sparse_user_item[inter_uid], N=top_k,filter_already_liked_items=True)\n",
    "        \n",
    "        \n",
    "        rec_game_list = []\n",
    "        for i in ids[0]:\n",
    "            str_i = f'{i}'\n",
    "            game_name = lookup_items[lookup_items['item_internal']==str_i]['game_name'].values[0]\n",
    "            rec_game_list.append(game_name)\n",
    "            \n",
    "        # update model\n",
    "        self.save_model()\n",
    "        \n",
    "        return rec_game_list\n",
    "    \n",
    "        \n",
    "    def save_model(self):\n",
    "        \n",
    "        self.ALS_model.save('ALS_model.npz')\n",
    "        print('save successfully!')\n",
    "    \n",
    "    \n",
    "    def load_model(self,file_path = 'ALS_model.npz'):\n",
    "        loaded_model = AlternatingLeastSquares(factors=50,regularization=0.01,alpha = 1.5,\n",
    "                                                       iterations=10,calculate_training_loss=True,\n",
    "                                                       random_state=42)\n",
    "        self.ALS_model = loaded_model.load(file_path)\n",
    "        \n",
    "        print('load successfully!')\n",
    "        \n",
    "    def clean_df(self):\n",
    "        self.raw_data = self.raw_data.drop_duplicates(subset=['user_id','game_name'], keep='last')\n",
    "        self.raw_data.to_csv('steam_users_new.csv', index=False)\n",
    "        \n",
    "        \n",
    "model = QionghHaRecommender(if_load_old = True)\n",
    "\n",
    "# train & evaluate hisitory\n",
    "\n",
    "# factors_list = [20,40,60,80,100,120,140,160,180,200,220,240,260,280,300] # regularization = 0.1,iterations = 20, alpha=1.5)\n",
    "# ref_list = [0.1,0.2,0.3,0.4,0.5,0.6,0.7,0.8] # factors = 20,iterations = 20, alpha=1.5)\n",
    "# iter_list = [1,2,3,4,5,6,7,8,9,10] # factors = 20,regularization = 0.1, alpha=1.5)\n",
    "alph_list = [0.2,0.4,0.6,0.8,1] # factors = 20,regularization = 0.1,iterations = 20)\n",
    "# k_list = [1,2,3,4,5,6,7,8,9,10]\n",
    "\n",
    "\n",
    "result_dict = {'P@K':[], 'AUC_at_k':[], 'MAP@K':[], 'ndcg@K':[]}\n",
    "\n",
    "for f in alph_list:\n",
    "    print(f)\n",
    "    model.load_data('steam_users_new.csv')\n",
    "    model.create_model(factors = 120,regularization = 0.1,iterations = 5, alpha=f)\n",
    "    # model.create_model(factors = 180,regularization = 0.1,iterations = 5, alpha=2)\n",
    "    model.train_model()\n",
    "    p, AUC, MAP, ndcg = model.eval(K=10)\n",
    "    result_dict['P@K'].append(p)\n",
    "    result_dict['AUC_at_k'].append(AUC)\n",
    "    result_dict['MAP@K'].append(MAP)\n",
    "    result_dict['ndcg@K'].append(ndcg)\n",
    "    # model.save_model()\n",
    "\n",
    "\n",
    "uid = 'new_legao6'\n",
    "game_list = ['LEGO Batman 4']\n",
    "hours = [50]\n",
    "scores = [9]\n",
    "top_k = 10\n",
    "rec_list = model.recommend_new_user(uid, game_list, hours, scores, top_k)\n",
    "model.clean_df()\n",
    "\n",
    "rec_list"
   ]
  },
  {
   "cell_type": "code",
   "execution_count": 4,
   "metadata": {},
   "outputs": [
    {
     "data": {
      "image/png": "[encoded data removed]",
      "text/plain": [
       "<Figure size 1000x600 with 1 Axes>"
      ]
     },
     "metadata": {},
     "output_type": "display_data"
    }
   ],
   "source": [
    "import matplotlib.pyplot as plt\n",
    "\n",
    "\n",
    "parameters = alph_list \n",
    "for p in parameters:\n",
    "    parameters[parameters.index(p)] = str(p)\n",
    "indicators = ['P@K', 'AUC_at_k', 'MAP@K', 'ndcg@K']         #\n",
    "\n",
    "data = result_dict\n",
    "\n",
    "plt.figure(figsize=(10, 6))\n",
    "\n",
    "for indid in indicators:\n",
    "    y = data[indid]\n",
    "    plt.plot(parameters, y, label=f'{indid}', marker='o')\n",
    "\n",
    "plt.xlabel('alpha = ')\n",
    "plt.ylabel('Metrics value')\n",
    "plt.title('Metrics value with different alpha value')\n",
    "plt.xticks(range(len(parameters)), parameters)\n",
    "plt.legend(loc='best')\n",
    "plt.grid(True)\n",
    "\n",
    "plt.show()"
   ]
  },
  {
   "cell_type": "code",
   "execution_count": 5,
   "metadata": {},
   "outputs": [],
   "source": [
    "# result_dict"
   ]
  },
  {
   "cell_type": "code",
   "execution_count": 6,
   "metadata": {},
   "outputs": [],
   "source": [
    "#\n",
    "# model.lookup_users.to_csv('lookup_users.csv',index=False)\n",
    "# lookup_items = pd.read_csv('lookup_users.csv')\n",
    "# lookup_items.info()"
   ]
  },
  {
   "cell_type": "code",
   "execution_count": 7,
   "metadata": {},
   "outputs": [
    {
     "data": {
      "text/html": [
       "<div>\n",
       "<style scoped>\n",
       "    .dataframe tbody tr th:only-of-type {\n",
       "        vertical-align: middle;\n",
       "    }\n",
       "\n",
       "    .dataframe tbody tr th {\n",
       "        vertical-align: top;\n",
       "    }\n",
       "\n",
       "    .dataframe thead th {\n",
       "        text-align: right;\n",
       "    }\n",
       "</style>\n",
       "<table border=\"1\" class=\"dataframe\">\n",
       "  <thead>\n",
       "    <tr style=\"text-align: right;\">\n",
       "      <th></th>\n",
       "      <th>item_internal</th>\n",
       "      <th>game_name</th>\n",
       "    </tr>\n",
       "  </thead>\n",
       "  <tbody>\n",
       "    <tr>\n",
       "      <th>0</th>\n",
       "      <td>227</td>\n",
       "      <td>Alien Swarm</td>\n",
       "    </tr>\n",
       "    <tr>\n",
       "      <th>1</th>\n",
       "      <td>852</td>\n",
       "      <td>Cities Skylines</td>\n",
       "    </tr>\n",
       "    <tr>\n",
       "      <th>2</th>\n",
       "      <td>978</td>\n",
       "      <td>Counter-Strike</td>\n",
       "    </tr>\n",
       "    <tr>\n",
       "      <th>3</th>\n",
       "      <td>984</td>\n",
       "      <td>Counter-Strike Source</td>\n",
       "    </tr>\n",
       "    <tr>\n",
       "      <th>4</th>\n",
       "      <td>1131</td>\n",
       "      <td>Day of Defeat</td>\n",
       "    </tr>\n",
       "    <tr>\n",
       "      <th>...</th>\n",
       "      <td>...</td>\n",
       "      <td>...</td>\n",
       "    </tr>\n",
       "    <tr>\n",
       "      <th>127738</th>\n",
       "      <td>3026</td>\n",
       "      <td>Operation Z</td>\n",
       "    </tr>\n",
       "    <tr>\n",
       "      <th>128183</th>\n",
       "      <td>3507</td>\n",
       "      <td>Retaliation</td>\n",
       "    </tr>\n",
       "    <tr>\n",
       "      <th>128374</th>\n",
       "      <td>93</td>\n",
       "      <td>Abducted</td>\n",
       "    </tr>\n",
       "    <tr>\n",
       "      <th>128702</th>\n",
       "      <td>3849</td>\n",
       "      <td>SimpleRockets</td>\n",
       "    </tr>\n",
       "    <tr>\n",
       "      <th>128804</th>\n",
       "      <td>2436</td>\n",
       "      <td>LEGO Batman 4</td>\n",
       "    </tr>\n",
       "  </tbody>\n",
       "</table>\n",
       "<p>5156 rows × 2 columns</p>\n",
       "</div>"
      ],
      "text/plain": [
       "       item_internal              game_name\n",
       "0                227            Alien Swarm\n",
       "1                852        Cities Skylines\n",
       "2                978         Counter-Strike\n",
       "3                984  Counter-Strike Source\n",
       "4               1131          Day of Defeat\n",
       "...              ...                    ...\n",
       "127738          3026            Operation Z\n",
       "128183          3507            Retaliation\n",
       "128374            93               Abducted\n",
       "128702          3849          SimpleRockets\n",
       "128804          2436          LEGO Batman 4\n",
       "\n",
       "[5156 rows x 2 columns]"
      ]
     },
     "execution_count": 7,
     "metadata": {},
     "output_type": "execute_result"
    }
   ],
   "source": [
    "model.lookup_items"
   ]
  },
  {
   "cell_type": "code",
   "execution_count": 8,
   "metadata": {},
   "outputs": [],
   "source": [
    "# model.load_model()"
   ]
  },
  {
   "cell_type": "code",
   "execution_count": null,
   "metadata": {},
   "outputs": [],
   "source": []
  }
 ],
 "metadata": {
  "kernelspec": {
   "display_name": "base",
   "language": "python",
   "name": "python3"
  },
  "language_info": {
   "codemirror_mode": {
    "name": "ipython",
    "version": 3
   },
   "file_extension": ".py",
   "mimetype": "text/x-python",
   "name": "python",
   "nbconvert_exporter": "python",
   "pygments_lexer": "ipython3",
   "version": "3.7.6"
  },
  "orig_nbformat": 4
 },
 "nbformat": 4,
 "nbformat_minor": 2
}
